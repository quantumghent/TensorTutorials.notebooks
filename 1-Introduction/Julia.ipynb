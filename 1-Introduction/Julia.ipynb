{
 "cells": [
  {
   "cell_type": "markdown",
   "id": "75e36bb4",
   "metadata": {},
   "source": [
    "# Getting started with Julia"
   ]
  }
 ],
 "metadata": {
  "date": 1695056837.6015449,
  "filename": "Julia.md",
  "kernelspec": {
   "display_name": "Julia",
   "language": "julia",
   "name": "julia-1.9"
  },
  "title": "Getting started with Julia"
 },
 "nbformat": 4,
 "nbformat_minor": 5
}