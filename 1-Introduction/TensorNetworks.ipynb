{
 "cells": [
  {
   "cell_type": "markdown",
   "id": "0db08526",
   "metadata": {},
   "source": [
    "# Tensor Network Theory\n",
    "\n",
    "1. Tensor Networks  \n",
    "  - context, history, purpose, relevance  \n",
    "  - multi-linear algebra  \n",
    "  - graphical notation  \n",
    "  - computational complexity  "
   ]
  }
 ],
 "metadata": {
  "date": 1695055174.0973072,
  "filename": "TensorNetworks.md",
  "kernelspec": {
   "display_name": "Julia",
   "language": "julia",
   "name": "julia-1.9"
  },
  "title": "Tensor Network Theory"
 },
 "nbformat": 4,
 "nbformat_minor": 5
}