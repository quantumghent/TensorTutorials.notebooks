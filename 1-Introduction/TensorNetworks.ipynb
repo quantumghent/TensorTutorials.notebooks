{
 "cells": [
  {
   "cell_type": "markdown",
   "id": "9212f206",
   "metadata": {},
   "source": [
    "# Tensor Network Theory\n",
    "\n",
    "1. Tensor Networks  \n",
    "  - context, history, purpose, relevance  \n",
    "  - multi-linear algebra  \n",
    "  - graphical notation  \n",
    "  - computational complexity  "
   ]
  }
 ],
 "metadata": {
  "date": 1695056837.6541035,
  "filename": "TensorNetworks.md",
  "kernelspec": {
   "display_name": "Julia",
   "language": "julia",
   "name": "julia-1.9"
  },
  "title": "Tensor Network Theory"
 },
 "nbformat": 4,
 "nbformat_minor": 5
}