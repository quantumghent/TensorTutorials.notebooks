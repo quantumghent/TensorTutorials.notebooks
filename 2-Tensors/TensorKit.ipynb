{
 "cells": [
  {
   "cell_type": "markdown",
   "id": "9068c6c1",
   "metadata": {},
   "source": [
    "# TensorKit.jl\n",
    "\n",
    "test"
   ]
  }
 ],
 "metadata": {
  "date": 1695056837.656982,
  "filename": "TensorKit.ipynb",
  "kernelspec": {
   "display_name": "Julia",
   "language": "julia",
   "name": "julia-1.9"
  },
  "title": "TensorKit.jl"
 },
 "nbformat": 4,
 "nbformat_minor": 5
}