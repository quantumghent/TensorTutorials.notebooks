{
 "cells": [
  {
   "cell_type": "markdown",
   "id": "5ff8a495",
   "metadata": {},
   "source": [
    "# TensorKit.jl\n",
    "\n",
    "test"
   ]
  }
 ],
 "metadata": {
  "date": 1695055174.1000683,
  "filename": "TensorKit.ipynb",
  "kernelspec": {
   "display_name": "Julia",
   "language": "julia",
   "name": "julia-1.9"
  },
  "title": "TensorKit.jl"
 },
 "nbformat": 4,
 "nbformat_minor": 5
}