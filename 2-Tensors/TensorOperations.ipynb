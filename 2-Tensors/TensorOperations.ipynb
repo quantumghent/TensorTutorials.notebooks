{
 "cells": [
  {
   "cell_type": "markdown",
   "id": "f3576ef4",
   "metadata": {},
   "source": [
    "# TensorOperations.jl\n",
    "\n",
    "test"
   ]
  }
 ],
 "metadata": {
  "date": 1695055174.1025968,
  "filename": "TensorOperations.ipynb",
  "kernelspec": {
   "display_name": "Julia",
   "language": "julia",
   "name": "julia-1.9"
  },
  "title": "TensorOperations.jl"
 },
 "nbformat": 4,
 "nbformat_minor": 5
}