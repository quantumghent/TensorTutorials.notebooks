{
 "cells": [
  {
   "cell_type": "markdown",
   "id": "82282fb5",
   "metadata": {},
   "source": [
    "# Algorithms\n",
    "\n",
    "1. Basic Algorithms  \n",
    "  - *Simple Update*  \n",
    "  - Trotterization  \n",
    "  - TEBD  "
   ]
  }
 ],
 "metadata": {
  "date": 1695061295.9749656,
  "filename": "Algorithms.md",
  "kernelspec": {
   "display_name": "Julia",
   "language": "julia",
   "name": "julia-1.9"
  },
  "title": "Algorithms"
 },
 "nbformat": 4,
 "nbformat_minor": 5
}