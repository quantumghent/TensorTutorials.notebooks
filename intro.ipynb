{
 "cells": [
  {
   "cell_type": "markdown",
   "id": "03161d1b",
   "metadata": {},
   "source": [
    "# Tensor Network Methods with Julia\n",
    "\n",
    "This is a series of tutorials on tensor network methods and their applications in quantum\n",
    "physics as well as statistical mechanics. It illustrates the theory, and aims to give\n",
    "hands-on practise by providing Julia code examples, as well as showcasing the software\n",
    "libraries that have been developed."
   ]
  },
  {
   "cell_type": "markdown",
   "id": "89af08af",
   "metadata": {},
   "source": [
    "# Introduction\n",
    "\n",
    "- [Quantum Many-Body Theory](https://quantumghent.github.io/TensorTutorials/1-Introduction/QuantumManyBody.html)\n",
    "- [Tensor Network Theory](https://quantumghent.github.io/TensorTutorials/1-Introduction/TensorNetworks.html)\n",
    "- [Getting started with Julia](https://quantumghent.github.io/TensorTutorials/1-Introduction/Julia.html)\n",
    "- [Symmetries in quantum many-body physics](https://quantumghent.github.io/TensorTutorials/1-Introduction/Symmetries.html)"
   ]
  },
  {
   "cell_type": "markdown",
   "id": "c7ec14a5",
   "metadata": {},
   "source": [
    "# Tensors\n",
    "\n",
    "- [TensorKit.jl](https://quantumghent.github.io/TensorTutorials/2-Tensors/TensorKit.html)\n",
    "- [TensorOperations.jl](https://quantumghent.github.io/TensorTutorials/2-Tensors/TensorOperations.html)"
   ]
  },
  {
   "cell_type": "markdown",
   "id": "3657f91d",
   "metadata": {},
   "source": [
    "# Matrix Product States\n",
    "\n",
    "- [Matrix Product States](https://quantumghent.github.io/TensorTutorials/3-MatrixProductStates/MatrixProductStates.html)\n",
    "- [Matrix Product Operators](https://quantumghent.github.io/TensorTutorials/3-MatrixProductStates/MatrixProductOperators.html)\n",
    "- [Infinite Matrix Product States](https://quantumghent.github.io/TensorTutorials/3-MatrixProductStates/InfiniteMPS.html)\n",
    "- [Algorithms](https://quantumghent.github.io/TensorTutorials/3-MatrixProductStates/Algorithms.html)\n",
    "- [Applications](https://quantumghent.github.io/TensorTutorials/3-MatrixProductStates/Applications.html)"
   ]
  },
  {
   "cell_type": "markdown",
   "id": "4c1b44ab",
   "metadata": {},
   "source": [
    "# Tensor Network Algorithms\n",
    "\n",
    "- [Fixed-Point algorithms](https://quantumghent.github.io/TensorTutorials/4-Algorithms/FixedpointAlgorithms.html)"
   ]
  },
  {
   "cell_type": "markdown",
   "id": "fb3ee5fa",
   "metadata": {},
   "source": [
    "# Other\n",
    "\n",
    "- [References](https://quantumghent.github.io/TensorTutorials/References.html)"
   ]
  }
 ],
 "metadata": {
  "date": 1695056837.746506,
  "filename": "intro.md",
  "kernelspec": {
   "display_name": "Julia",
   "language": "julia",
   "name": "julia-1.9"
  },
  "title": "Tensor Network Methods with Julia"
 },
 "nbformat": 4,
 "nbformat_minor": 5
}