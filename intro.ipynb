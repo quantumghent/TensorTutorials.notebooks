{
 "cells": [
  {
   "cell_type": "markdown",
   "id": "fee68263",
   "metadata": {},
   "source": [
    "# Tensor Network Methods with Julia\n",
    "\n",
    "This is a series of tutorials on tensor network methods and their applications in quantum\n",
    "physics as well as statistical mechanics. It illustrates the theory, and aims to give\n",
    "hands-on practise by providing Julia code examples, as well as showcasing the software\n",
    "libraries that have been developed."
   ]
  },
  {
   "cell_type": "markdown",
   "id": "04f6011b",
   "metadata": {},
   "source": [
    "# Introduction\n",
    "\n",
    "- [Quantum Many-Body Theory](https://quantumghent.github.io/TensorTutorials/1-Introduction/QuantumManyBody.html)\n",
    "- [Getting started with Julia](https://quantumghent.github.io/TensorTutorials/1-Introduction/Software.html)\n",
    "- [(Multi-) Linear Algebra](https://quantumghent.github.io/TensorTutorials/1-Introduction/LinearAlgebra.html)\n",
    "- [Tensor Network Theory](https://quantumghent.github.io/TensorTutorials/1-Introduction/TensorNetworks.html)\n",
    "- [Symmetries in quantum many-body physics](https://quantumghent.github.io/TensorTutorials/1-Introduction/Symmetries.html)"
   ]
  },
  {
   "cell_type": "markdown",
   "id": "34e39006",
   "metadata": {},
   "source": [
    "# Tensors\n",
    "\n",
    "- [TensorKit.jl](https://quantumghent.github.io/TensorTutorials/2-Tensors/TensorKit.html)\n",
    "- [TensorOperations.jl](https://quantumghent.github.io/TensorTutorials/2-Tensors/TensorOperations.html)"
   ]
  },
  {
   "cell_type": "markdown",
   "id": "4611ebce",
   "metadata": {},
   "source": [
    "# Matrix Product States\n",
    "\n",
    "- [Matrix Product States](https://quantumghent.github.io/TensorTutorials/3-MatrixProductStates/MatrixProductStates.html)\n",
    "- [Matrix Product Operators](https://quantumghent.github.io/TensorTutorials/3-MatrixProductStates/MatrixProductOperators.html)\n",
    "- [Infinite Matrix Product States](https://quantumghent.github.io/TensorTutorials/3-MatrixProductStates/InfiniteMPS.html)\n",
    "- [Algorithms](https://quantumghent.github.io/TensorTutorials/3-MatrixProductStates/Algorithms.html)\n",
    "- [Applications](https://quantumghent.github.io/TensorTutorials/3-MatrixProductStates/Applications.html)"
   ]
  },
  {
   "cell_type": "markdown",
   "id": "abd58303",
   "metadata": {},
   "source": [
    "# Tensor Network Algorithms\n",
    "\n",
    "- [Fixed-Point algorithms](https://quantumghent.github.io/TensorTutorials/4-Algorithms/FixedpointAlgorithms.html)"
   ]
  },
  {
   "cell_type": "markdown",
   "id": "d95a424d",
   "metadata": {},
   "source": [
    "# Other\n",
    "\n",
    "- [References](https://quantumghent.github.io/TensorTutorials/References.html)"
   ]
  }
 ],
 "metadata": {
  "date": 1695061296.0707734,
  "filename": "intro.md",
  "kernelspec": {
   "display_name": "Julia",
   "language": "julia",
   "name": "julia-1.9"
  },
  "title": "Tensor Network Methods with Julia"
 },
 "nbformat": 4,
 "nbformat_minor": 5
}